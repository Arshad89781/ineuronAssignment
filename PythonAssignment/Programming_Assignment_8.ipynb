{
  "nbformat": 4,
  "nbformat_minor": 0,
  "metadata": {
    "colab": {
      "provenance": [],
      "collapsed_sections": []
    },
    "kernelspec": {
      "name": "python3",
      "display_name": "Python 3"
    },
    "language_info": {
      "name": "python"
    }
  },
  "cells": [
    {
      "cell_type": "code",
      "execution_count": null,
      "metadata": {
        "id": "4Ck8bzmIfhBA"
      },
      "outputs": [],
      "source": [
        "\n",
        "\n"
      ]
    },
    {
      "cell_type": "code",
      "source": [
        "#1. Write a Python Program to Add Two Matrices?\n",
        "import numpy as np\n",
        "\n",
        "mat_one = np.random.randint(10,size=(3,3))\n",
        "mat_two = np.random.randint(10,size=(3,3))\n",
        "result = mat_one+mat_two\n",
        "print(f\"A = \\n{mat_one}\\n \\n B = \\n{mat_two}\\n \\n A+B=\\n{result}\\n \")"
      ],
      "metadata": {
        "colab": {
          "base_uri": "https://localhost:8080/"
        },
        "id": "zw2rrLjsfizC",
        "outputId": "900fa8b8-0fa1-47e0-d26d-9e082d6d350a"
      },
      "execution_count": 20,
      "outputs": [
        {
          "output_type": "stream",
          "name": "stdout",
          "text": [
            "A = \n",
            "[[1 4 9]\n",
            " [1 2 7]\n",
            " [0 5 9]]\n",
            " \n",
            " B = \n",
            "[[6 3 5]\n",
            " [1 9 3]\n",
            " [4 0 1]]\n",
            " \n",
            " A+B=\n",
            "[[ 7  7 14]\n",
            " [ 2 11 10]\n",
            " [ 4  5 10]]\n",
            " \n"
          ]
        }
      ]
    },
    {
      "cell_type": "code",
      "source": [
        "#2. Write a Python Program to Multiply Two Matrices?\n",
        "import numpy as np\n",
        "\n",
        "mat_one = np.random.randint(10,size=(3,3))\n",
        "mat_two = np.random.randint(10,size=(3,3))\n",
        "result = np.matmul(mat_one,mat_two)\n",
        "print(f\"A = \\n{mat_one}\\n \\n B = \\n{mat_two}\\n \\n A*B=\\n{result}\\n \")"
      ],
      "metadata": {
        "colab": {
          "base_uri": "https://localhost:8080/"
        },
        "id": "Cp2jhKqzgU2B",
        "outputId": "1dc273c3-a41e-49c0-f729-35aabbb201a0"
      },
      "execution_count": 30,
      "outputs": [
        {
          "output_type": "stream",
          "name": "stdout",
          "text": [
            "A = \n",
            "[[8 3 0]\n",
            " [4 6 3]\n",
            " [0 3 6]]\n",
            " \n",
            " B = \n",
            "[[8 5 7]\n",
            " [8 2 9]\n",
            " [7 7 0]]\n",
            " \n",
            " A*B=\n",
            "[[ 88  46  83]\n",
            " [101  53  82]\n",
            " [ 66  48  27]]\n",
            " \n"
          ]
        }
      ]
    },
    {
      "cell_type": "code",
      "source": [
        "#3. Write a Python Program to Transpose a Matrix?\n",
        "import numpy as np\n",
        "\n",
        "mat = np.random.randint(10,size=(3,3))\n",
        "mat_t = mat.T\n",
        "print(\"before transpoe\")\n",
        "print(mat)\n",
        "print(\"After transpse\")\n",
        "print(mat_t)\n"
      ],
      "metadata": {
        "colab": {
          "base_uri": "https://localhost:8080/"
        },
        "id": "dDmgU5Awilqr",
        "outputId": "5f220677-4846-46f1-e6c0-8db1724f78bc"
      },
      "execution_count": 23,
      "outputs": [
        {
          "output_type": "stream",
          "name": "stdout",
          "text": [
            "before transpoe\n",
            "[[1 3 6]\n",
            " [6 8 2]\n",
            " [6 1 9]]\n",
            "After transpse\n",
            "[[1 6 6]\n",
            " [3 8 1]\n",
            " [6 2 9]]\n"
          ]
        }
      ]
    },
    {
      "cell_type": "code",
      "source": [
        "#4. Write a Python Program to Sort Words in Alphabetic Order?\n",
        "strin = \"Arshad\"\n",
        "strin = strin.lower()\n",
        "sorted_word = \"\".join(sorted(list(strin)))\n",
        "print(sorted_word)"
      ],
      "metadata": {
        "colab": {
          "base_uri": "https://localhost:8080/"
        },
        "id": "SUOCw18YiyiA",
        "outputId": "604d761b-e50f-4d7a-b845-2c8be6821611"
      },
      "execution_count": 27,
      "outputs": [
        {
          "output_type": "stream",
          "name": "stdout",
          "text": [
            "aadhrs\n"
          ]
        }
      ]
    },
    {
      "cell_type": "code",
      "source": [
        "#5. Write a Python Program to Remove Punctuation From a String?\n",
        "import re\n",
        "a_string = '!hi. wh?at is the weat[h]er lik?e.'\n",
        "new_string = re.sub(r'[^\\w\\s]', '', a_string)\n",
        "print(new_string)"
      ],
      "metadata": {
        "colab": {
          "base_uri": "https://localhost:8080/"
        },
        "id": "esIT0P-Mjdrb",
        "outputId": "fe7ed71b-f2f6-499c-f498-44a76fe0fcb6"
      },
      "execution_count": 28,
      "outputs": [
        {
          "output_type": "stream",
          "name": "stdout",
          "text": [
            "hi what is the weather like\n"
          ]
        }
      ]
    },
    {
      "cell_type": "code",
      "source": [],
      "metadata": {
        "id": "QrQkCeSpkRfY"
      },
      "execution_count": null,
      "outputs": []
    }
  ]
}