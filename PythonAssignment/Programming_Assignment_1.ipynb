{
  "nbformat": 4,
  "nbformat_minor": 0,
  "metadata": {
    "colab": {
      "provenance": []
    },
    "kernelspec": {
      "name": "python3",
      "display_name": "Python 3"
    },
    "language_info": {
      "name": "python"
    }
  },
  "cells": [
    {
      "cell_type": "code",
      "execution_count": 18,
      "metadata": {
        "colab": {
          "base_uri": "https://localhost:8080/"
        },
        "id": "f3hX6qPCjbEG",
        "outputId": "59a0eaa4-38ca-4197-e634-53564f69fcc8"
      },
      "outputs": [
        {
          "output_type": "stream",
          "name": "stdout",
          "text": [
            "Hello Python\n"
          ]
        }
      ],
      "source": [
        "#1. Write a Python program to print &quot;Hello Python&quot;?\n",
        "def hello():\n",
        "  print(\"Hello Python\")\n",
        "hello()"
      ]
    },
    {
      "cell_type": "code",
      "source": [
        "#2. Write a Python program to do arithmetical operations addition and division.?\n",
        "def addition(a,b):\n",
        "  return a+b\n",
        "def division(a,b):\n",
        "  try:\n",
        "    return a/b\n",
        "  except ZeroDivisionError:\n",
        "    print(\"not divisble by zero\")  \n",
        "a=int(input(\"enter first value\"))\n",
        "b=int(input(\"enter secoend value\"))\n",
        "print(f\"add of {a} ,{b} is {addition(a,b)}\")\n",
        "print(f\"div of {a}/{b} is {division(a,b)}\")   "
      ],
      "metadata": {
        "colab": {
          "base_uri": "https://localhost:8080/"
        },
        "id": "yyKBf0XijpA5",
        "outputId": "bdedb9ee-92db-4e3a-a5bd-dc1a97a3abc0"
      },
      "execution_count": 19,
      "outputs": [
        {
          "output_type": "stream",
          "name": "stdout",
          "text": [
            "enter first value22\n",
            "enter secoend value11\n",
            "add of 22 ,11 is 33\n",
            "div of 22/11 is 2.0\n"
          ]
        }
      ]
    },
    {
      "cell_type": "code",
      "source": [
        "#3. Write a Python program to find the area of a triangle?\n",
        "def areaOfTrianble(b,h):\n",
        "  return b*h*0.5\n",
        "b=int(input(\"enter base value\"))\n",
        "h=int(input(\"enter height value\"))\n",
        "areaOfTrianble(b,h)\n"
      ],
      "metadata": {
        "colab": {
          "base_uri": "https://localhost:8080/"
        },
        "id": "1hqffOExkSzp",
        "outputId": "6158f647-63ef-4348-ba70-862a1e86a46e"
      },
      "execution_count": 20,
      "outputs": [
        {
          "name": "stdout",
          "output_type": "stream",
          "text": [
            "enter base value3\n",
            "enter height value4\n"
          ]
        },
        {
          "output_type": "execute_result",
          "data": {
            "text/plain": [
              "6.0"
            ]
          },
          "metadata": {},
          "execution_count": 20
        }
      ]
    },
    {
      "cell_type": "code",
      "source": [
        "#4. Write a Python program to swap two variables?\n",
        "a=int(input(\"enter a value \"))\n",
        "b=int(input(\"enter b value \"))\n",
        "print(f'before swap a = {a} ,b = {b}')\n",
        "a,b=b,a\n",
        "print(f'after swap a = {a} ,b = {b}')\n"
      ],
      "metadata": {
        "colab": {
          "base_uri": "https://localhost:8080/"
        },
        "id": "g1dT49XeliGu",
        "outputId": "6fda7831-767a-47c9-c310-0850b2b70948"
      },
      "execution_count": 14,
      "outputs": [
        {
          "output_type": "stream",
          "name": "stdout",
          "text": [
            "enter a value 22\n",
            "enter b value 11\n",
            "before swap a = 22 ,b = 11\n",
            "after swap a = 11 ,b = 22\n"
          ]
        }
      ]
    },
    {
      "cell_type": "code",
      "source": [
        "#5. Write a Python program to generate a random number?\n",
        "import random\n",
        "num = random.randrange(1,100)\n",
        "print(num)"
      ],
      "metadata": {
        "colab": {
          "base_uri": "https://localhost:8080/"
        },
        "id": "n-1VpxvImxCg",
        "outputId": "df54d6ac-f555-4e8b-8f75-afc7ceace95e"
      },
      "execution_count": 17,
      "outputs": [
        {
          "output_type": "stream",
          "name": "stdout",
          "text": [
            "74\n"
          ]
        }
      ]
    },
    {
      "cell_type": "code",
      "source": [],
      "metadata": {
        "id": "rp1lPGr1nBbo"
      },
      "execution_count": null,
      "outputs": []
    }
  ]
}