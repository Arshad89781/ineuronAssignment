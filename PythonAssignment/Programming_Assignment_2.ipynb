{
  "nbformat": 4,
  "nbformat_minor": 0,
  "metadata": {
    "colab": {
      "provenance": [],
      "collapsed_sections": []
    },
    "kernelspec": {
      "name": "python3",
      "display_name": "Python 3"
    },
    "language_info": {
      "name": "python"
    }
  },
  "cells": [
    {
      "cell_type": "code",
      "source": [
        "#1. Write a Python program to convert kilometers to miles?\n",
        "def kilometerToyMiles(a):\n",
        "  return a * 0.62137119\n",
        "a = float(input(\"enter your km : \"))\n",
        "print(f\"{a} km = {kilometerToyMiles(a)} miles\")  "
      ],
      "metadata": {
        "colab": {
          "base_uri": "https://localhost:8080/"
        },
        "id": "18MqCRNUrBU4",
        "outputId": "b956aa4b-7db0-47f9-ac0f-e962202d78b6"
      },
      "execution_count": 2,
      "outputs": [
        {
          "output_type": "stream",
          "name": "stdout",
          "text": [
            "enter your km : 1\n",
            "1.0 km = 0.62137119 miles\n"
          ]
        }
      ]
    },
    {
      "cell_type": "code",
      "source": [
        "#2. Write a Python program to convert Celsius to Fahrenheit?\n",
        "def celsiusToF(c):\n",
        "  return (c * 1.8) + 32\n",
        "c = float(input(\"enter your Celsius : \"))\n",
        "print(f\"{c} Celsius = {celsiusToF(c)} Fahrenheit\") "
      ],
      "metadata": {
        "colab": {
          "base_uri": "https://localhost:8080/"
        },
        "id": "OeA31x-yrmOW",
        "outputId": "52212dcc-164a-4577-b746-52809a1462ce"
      },
      "execution_count": 7,
      "outputs": [
        {
          "output_type": "stream",
          "name": "stdout",
          "text": [
            "enter your Celsius : 1\n",
            "1.0 Celsius = 33.8 Fahrenheit\n"
          ]
        }
      ]
    },
    {
      "cell_type": "code",
      "source": [
        "#3. Write a Python program to display calendar?\n",
        "import calendar\n",
        "\n",
        "yy = int(input(\"enter year : \"))  \n",
        "mm = int(input(\"enter month : \"))     \n",
        "\n",
        "print(calendar.month(yy, mm))\n"
      ],
      "metadata": {
        "colab": {
          "base_uri": "https://localhost:8080/"
        },
        "id": "TjC4Olfmsi2e",
        "outputId": "f9fe61af-272e-48a5-f628-b4f8989d3574"
      },
      "execution_count": 11,
      "outputs": [
        {
          "output_type": "stream",
          "name": "stdout",
          "text": [
            "enter year : 2022\n",
            "enter month : 10\n",
            "    October 2022\n",
            "Mo Tu We Th Fr Sa Su\n",
            "                1  2\n",
            " 3  4  5  6  7  8  9\n",
            "10 11 12 13 14 15 16\n",
            "17 18 19 20 21 22 23\n",
            "24 25 26 27 28 29 30\n",
            "31\n",
            "\n"
          ]
        }
      ]
    },
    {
      "cell_type": "code",
      "source": [
        "#4. Write a Python program to solve quadratic equation?\n",
        "import cmath\n",
        "a = float(input(\"enter a value \"))\n",
        "b = float(input(\"enter b value \"))\n",
        "c = float(input(\"enter c value \"))\n",
        "\n",
        "def solution(a,b,c):\n",
        "  d = (b**2) - (4*a*c)\n",
        "  x1 = (-b-cmath.sqrt(d))/(2*a)\n",
        "  x2 = (-b+cmath.sqrt(d))/(2*a)\n",
        "  return x1,x2\n",
        "x1,x2 = solution(a,b,c)\n",
        "print('The solution are {0} and {1}'.format(x1,x2))\n"
      ],
      "metadata": {
        "colab": {
          "base_uri": "https://localhost:8080/"
        },
        "id": "jAeiIpKwtArZ",
        "outputId": "e066631c-8819-4800-bb8a-fb5426d0e536"
      },
      "execution_count": 14,
      "outputs": [
        {
          "output_type": "stream",
          "name": "stdout",
          "text": [
            "enter a value 10\n",
            "enter b value 20\n",
            "enter c value 30\n",
            "The solution are (-1-1.4142135623730951j) and (-1+1.4142135623730951j)\n"
          ]
        }
      ]
    },
    {
      "cell_type": "code",
      "source": [
        "#5. Write a Python program to swap two variables without temp variable?\n",
        "a = float(input(\"enter a value \"))\n",
        "b = float(input(\"enter b value \"))\n",
        "print(f\"before swap a = {a} b = {b}\")\n",
        "a,b=b,a\n",
        "print(f\"After swap a = {a} b = {b}\")"
      ],
      "metadata": {
        "colab": {
          "base_uri": "https://localhost:8080/"
        },
        "id": "JO64vf7bt7Y5",
        "outputId": "b7211335-0ead-4ac3-a440-c794b2569269"
      },
      "execution_count": 15,
      "outputs": [
        {
          "output_type": "stream",
          "name": "stdout",
          "text": [
            "enter a value 1\n",
            "enter b value 2\n",
            "before swap a = 1.0 b = 2.0\n",
            "After swap a = 2.0 b = 1.0\n"
          ]
        }
      ]
    },
    {
      "cell_type": "code",
      "source": [],
      "metadata": {
        "id": "zuJM6y_4vRTv"
      },
      "execution_count": null,
      "outputs": []
    }
  ]
}