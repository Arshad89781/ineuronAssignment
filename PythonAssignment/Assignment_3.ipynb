{
  "nbformat": 4,
  "nbformat_minor": 0,
  "metadata": {
    "colab": {
      "provenance": []
    },
    "kernelspec": {
      "name": "python3",
      "display_name": "Python 3"
    },
    "language_info": {
      "name": "python"
    }
  },
  "cells": [
    {
      "cell_type": "markdown",
      "source": [
        "**1. Why are functions advantageous to have in your programs?**"
      ],
      "metadata": {
        "id": "hqGN8TS8bPSu"
      }
    },
    {
      "cell_type": "markdown",
      "source": [
        "\n",
        "1.   Avoid duplication of code\n",
        "2.   Reuse of code\n",
        "3.   Easy to maintan and understand and update the code\n",
        "\n",
        "\n",
        "\n",
        "\n",
        "\n"
      ],
      "metadata": {
        "id": "zIWFkbx7bSdA"
      }
    },
    {
      "cell_type": "markdown",
      "source": [
        "**2. When does the code in a function run: when it's specified or when it's called?**"
      ],
      "metadata": {
        "id": "76rIi6jkciJk"
      }
    },
    {
      "cell_type": "markdown",
      "source": [
        "when function is call then only specific code will run"
      ],
      "metadata": {
        "id": "nh3HLmfwcnl0"
      }
    },
    {
      "cell_type": "markdown",
      "source": [
        "**3. What statement creates a function?**"
      ],
      "metadata": {
        "id": "V-qfZUNAc1tG"
      }
    },
    {
      "cell_type": "markdown",
      "source": [
        "def statement key creates the function<br/>\n",
        "syntax of function creation <br/>\n",
        "\n",
        "def functionName: <br/>\n",
        "  code"
      ],
      "metadata": {
        "id": "uv3ZgjIpc1lC"
      }
    },
    {
      "cell_type": "code",
      "execution_count": 1,
      "metadata": {
        "colab": {
          "base_uri": "https://localhost:8080/"
        },
        "id": "3xadXPyAbK1L",
        "outputId": "b4f24b73-018a-44e6-f264-b92b4d03e2d8"
      },
      "outputs": [
        {
          "output_type": "stream",
          "name": "stdout",
          "text": [
            "hello\n"
          ]
        }
      ],
      "source": [
        "def hello():\n",
        "  print(\"hello\")\n",
        "\n",
        "hello()"
      ]
    },
    {
      "cell_type": "markdown",
      "source": [
        "**4. What is the difference between a function and a function call?**"
      ],
      "metadata": {
        "id": "dPARzNQBds41"
      }
    },
    {
      "cell_type": "code",
      "source": [
        "def hello():#function\n",
        "  print(\"hello\")\n",
        "\n",
        "hello()#function call"
      ],
      "metadata": {
        "colab": {
          "base_uri": "https://localhost:8080/"
        },
        "id": "_ow_Jz7QeJeQ",
        "outputId": "0826a0bd-6058-4aff-8ccc-4476ddd58cc8"
      },
      "execution_count": 2,
      "outputs": [
        {
          "output_type": "stream",
          "name": "stdout",
          "text": [
            "hello\n"
          ]
        }
      ]
    },
    {
      "cell_type": "markdown",
      "source": [
        "Function contain some executable code in it <br/>\n",
        "eg: above code hello() function contain print statement<br/>\n",
        "\n",
        "function call is to run the code present inside that specific function<br/>\n",
        "eg:To run above hello function we need to call it by hello() "
      ],
      "metadata": {
        "id": "e0wZBVeYdsxs"
      }
    },
    {
      "cell_type": "markdown",
      "source": [
        "**5. How many global scopes are there in a Python program? How many local scopes?** *"
      ],
      "metadata": {
        "id": "cpkzx051fITp"
      }
    },
    {
      "cell_type": "markdown",
      "source": [
        "There is only one global Python scope per program execution. This scope remains in existence until the program terminates , and a local scope is created whenever a function is called."
      ],
      "metadata": {
        "id": "7Nhi-uw2fILb"
      }
    },
    {
      "cell_type": "markdown",
      "source": [
        "**6. What happens to variables in a local scope when the function call returns?**"
      ],
      "metadata": {
        "id": "hPmSTJkHhi06"
      }
    },
    {
      "cell_type": "markdown",
      "source": [
        "The variable will be destroy after function call is return"
      ],
      "metadata": {
        "id": "M3nZxkFohniD"
      }
    },
    {
      "cell_type": "markdown",
      "source": [
        "**7. What is the concept of a return value? Is it possible to have a return value in an expression?**"
      ],
      "metadata": {
        "id": "FBR3UJqRiArR"
      }
    },
    {
      "cell_type": "markdown",
      "source": [
        "(i) A return is a value that a function returns to the calling script or function when it completes its task. A return value can be any one of the four variable types: handle, integer, object, or string. The type of value your function returns depends largely on the task it performs <br/>\n",
        "\n",
        "(ii) yes,it is possible to have a return value in an expression"
      ],
      "metadata": {
        "id": "GlMIde7viFKC"
      }
    },
    {
      "cell_type": "markdown",
      "source": [
        "**8. If a function does not have a return statement, what is the return value of a call to that function?**"
      ],
      "metadata": {
        "id": "zfwVqd5CkOd5"
      }
    },
    {
      "cell_type": "markdown",
      "source": [
        "It will not return anything"
      ],
      "metadata": {
        "id": "VbXn1-MgkOWM"
      }
    },
    {
      "cell_type": "markdown",
      "source": [
        "**9. How do you make a function variable refer to the global variable?**"
      ],
      "metadata": {
        "id": "Tws05kfMlGWt"
      }
    },
    {
      "cell_type": "markdown",
      "source": [
        "we can make funcation variable refers to global variable by using global keyword before function variable"
      ],
      "metadata": {
        "id": "P6bIAitElGPG"
      }
    },
    {
      "cell_type": "code",
      "source": [
        "a=10\n",
        "def changeA():\n",
        "  global a\n",
        "  a=2\n",
        "  print(a)\n",
        "print(a)\n",
        "changeA()\n",
        "print(a)  "
      ],
      "metadata": {
        "colab": {
          "base_uri": "https://localhost:8080/"
        },
        "id": "MpLSjB_3lf39",
        "outputId": "7650a102-914b-469f-890c-3eec7013a06f"
      },
      "execution_count": 4,
      "outputs": [
        {
          "output_type": "stream",
          "name": "stdout",
          "text": [
            "10\n",
            "2\n",
            "2\n"
          ]
        }
      ]
    },
    {
      "cell_type": "markdown",
      "source": [
        "**10. What is the data type of None?**"
      ],
      "metadata": {
        "id": "1AO8tOh9lzF0"
      }
    },
    {
      "cell_type": "markdown",
      "source": [
        "Nonetype"
      ],
      "metadata": {
        "id": "tiSU-0rFly_D"
      }
    },
    {
      "cell_type": "code",
      "source": [
        "type(None)"
      ],
      "metadata": {
        "colab": {
          "base_uri": "https://localhost:8080/"
        },
        "id": "kGPoZHPcdX-I",
        "outputId": "fd7146b0-3959-49b1-dd84-b0604636956e"
      },
      "execution_count": 6,
      "outputs": [
        {
          "output_type": "execute_result",
          "data": {
            "text/plain": [
              "NoneType"
            ]
          },
          "metadata": {},
          "execution_count": 6
        }
      ]
    },
    {
      "cell_type": "markdown",
      "source": [
        "**11. What does the sentence import areallyourpetsnamederic do?**"
      ],
      "metadata": {
        "id": "H0CUqs3amDaI"
      }
    },
    {
      "cell_type": "markdown",
      "source": [
        "It will import a model name areallyourpetsnamederic .so we can use avaible function in areallyourpetsnamederic."
      ],
      "metadata": {
        "id": "hKdIPFxBmDT0"
      }
    },
    {
      "cell_type": "markdown",
      "source": [
        "**12. If you had a bacon() feature in a spam module, what would you call it after importing spam?**"
      ],
      "metadata": {
        "id": "aNG9weCemusv"
      }
    },
    {
      "cell_type": "markdown",
      "source": [
        "spam.bacon()"
      ],
      "metadata": {
        "id": "kNGMOomDmukW"
      }
    },
    {
      "cell_type": "markdown",
      "source": [
        "**13. What can you do to save a programme from crashing if it encounters an error?**"
      ],
      "metadata": {
        "id": "sLb-ji1_nUSA"
      }
    },
    {
      "cell_type": "markdown",
      "source": [
        "By using Try Except clause"
      ],
      "metadata": {
        "id": "ASNWtMZCnUMh"
      }
    },
    {
      "cell_type": "markdown",
      "source": [
        "**14. What is the purpose of the try clause? What is the purpose of the except clause?**"
      ],
      "metadata": {
        "id": "hewH7b1moUDE"
      }
    },
    {
      "cell_type": "markdown",
      "source": [
        "The try block lets you test a block of code for errors.<br/>\n",
        "\n",
        "The except block lets you handle the error.<br/>"
      ],
      "metadata": {
        "id": "2STN0v_7oT7t"
      }
    },
    {
      "cell_type": "code",
      "source": [],
      "metadata": {
        "id": "a-YC533gl8W6"
      },
      "execution_count": null,
      "outputs": []
    }
  ]
}