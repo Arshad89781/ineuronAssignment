{
  "nbformat": 4,
  "nbformat_minor": 0,
  "metadata": {
    "colab": {
      "provenance": []
    },
    "kernelspec": {
      "name": "python3",
      "display_name": "Python 3"
    },
    "language_info": {
      "name": "python"
    }
  },
  "cells": [
    {
      "cell_type": "markdown",
      "source": [
        "**1.What are the two values of the Boolean data type? How do you write them?**"
      ],
      "metadata": {
        "id": "KoQNvsfScmfg"
      }
    },
    {
      "cell_type": "markdown",
      "source": [
        "Ans: Two values of boolean data type are <br>\n",
        "1.true<br>\n",
        "2.false<br>\n"
      ],
      "metadata": {
        "id": "g5TdBPGKe0Uv"
      }
    },
    {
      "cell_type": "code",
      "source": [
        "#we decalre value with True or False\n",
        "a=True\n",
        "b=False\n",
        "print(f'a value {a},b value {b}')"
      ],
      "metadata": {
        "colab": {
          "base_uri": "https://localhost:8080/"
        },
        "id": "1vZNj0ZLfbhg",
        "outputId": "b89a33b6-0023-4f99-ae87-ccc1e0c7cde8"
      },
      "execution_count": null,
      "outputs": [
        {
          "output_type": "stream",
          "name": "stdout",
          "text": [
            "a value True,b value False\n"
          ]
        }
      ]
    },
    {
      "cell_type": "markdown",
      "source": [
        "**2. What are the three different types of Boolean operators?**"
      ],
      "metadata": {
        "id": "x6m0r5lBc7pV"
      }
    },
    {
      "cell_type": "markdown",
      "source": [
        "Ans:The three diffrent types of boolean operators are <br>\n",
        "1.And<br>\n",
        "2.or<br>\n",
        "3.Not<br>"
      ],
      "metadata": {
        "id": "pEAp8RVUIvJB"
      }
    },
    {
      "cell_type": "markdown",
      "source": [
        "**3. Make a list of each Boolean operator's truth tables (i.e. every possible combination of Boolean values for the operator and what it evaluate ).**"
      ],
      "metadata": {
        "id": "77nreL7DeNVv"
      }
    },
    {
      "cell_type": "code",
      "source": [
        "a=True\n",
        "b=False\n",
        "print(\"----------------------------\")\n",
        "print(\"  x  |  y |  and  | or  |  not x\")\n",
        "print(\"----------------------------\")\n",
        "print(f'{a}  {a} {a and a}  {a or a} {not a}')\n",
        "print(f'{b} {b} {b and b} {b or b} {not b}')\n",
        "print(f'{a}  {b} {a and b} {a or b} ')\n",
        "print(f'{b} {a} {b and a}  {b or a} ')\n"
      ],
      "metadata": {
        "colab": {
          "base_uri": "https://localhost:8080/"
        },
        "id": "TkBJGR4TGZFM",
        "outputId": "7c0f918f-d3fb-4dab-96ed-7232fa6d491a"
      },
      "execution_count": 37,
      "outputs": [
        {
          "output_type": "stream",
          "name": "stdout",
          "text": [
            "----------------------------\n",
            "  x  |  y |  and  | or  |  not x\n",
            "----------------------------\n",
            "True  True True  True False\n",
            "False False False False True\n",
            "True  False False True \n",
            "False True False  True \n"
          ]
        }
      ]
    },
    {
      "cell_type": "markdown",
      "source": [],
      "metadata": {
        "id": "l5wz3SSOGBzq"
      }
    },
    {
      "cell_type": "code",
      "source": [],
      "metadata": {
        "id": "Nil_qblTJNBj"
      },
      "execution_count": null,
      "outputs": []
    },
    {
      "cell_type": "markdown",
      "source": [
        "4. What are the values of the following expressions?<br>\n",
        "(5 > 4) and (3 == 5)<br>\n",
        "not (5 > 4)<br>\n",
        "(5 > 4) or (3 == 5)<br>\n",
        "not ((5 > 4) or (3 == 5))<br>\n",
        "(True and True) and (True == False)<br>\n",
        "(not False) or (not True)<br>"
      ],
      "metadata": {
        "id": "88x5p_3eeOMP"
      }
    },
    {
      "cell_type": "code",
      "source": [
        "print((5 > 4) and (3 == 5))\n",
        "print(not (5 > 4))\n",
        "print((5 > 4) or (3 == 5))\n",
        "print(not ((5 > 4) or (3 == 5)))\n",
        "print((True and True) and (True == False))\n",
        "print((not False) or (not True))"
      ],
      "metadata": {
        "colab": {
          "base_uri": "https://localhost:8080/"
        },
        "id": "98vkusWNjMa-",
        "outputId": "2e5aad66-c535-443d-ceae-41010357c709"
      },
      "execution_count": 2,
      "outputs": [
        {
          "output_type": "stream",
          "name": "stdout",
          "text": [
            "False\n",
            "False\n",
            "True\n",
            "False\n",
            "False\n",
            "True\n"
          ]
        }
      ]
    },
    {
      "cell_type": "markdown",
      "source": [
        "**5. What are the six comparison operato**"
      ],
      "metadata": {
        "id": "v6wQBzBleV7v"
      }
    },
    {
      "cell_type": "markdown",
      "source": [
        "Ans:1. < <br>\n",
        "    2. ><br>\n",
        "    3. ==<br>\n",
        "    4. !=<br>\n",
        "    5. <=<br>\n",
        "    6. >=<br>"
      ],
      "metadata": {
        "id": "U6UMz1njjrbw"
      }
    },
    {
      "cell_type": "markdown",
      "source": [
        "**6. How do you tell the difference between the equal to and assignment operators?Describe a condition and when you would use one.**"
      ],
      "metadata": {
        "id": "gNM1GVgDeaCM"
      }
    },
    {
      "cell_type": "markdown",
      "source": [
        "1. Assignment operator (=) is used to asign given value to variable<br>\n",
        "eg: a = 6 In this example value 6 is store in variable 'a'<br>\n",
        "\n",
        "2 '==' is used to comapre two operands if both operands are same then it will return \"True\" otherwise \"False\"\n",
        "\n",
        "\n",
        "3. If we want assign any value to variable then we will use \"=\" \n",
        "4. If we want to compare two operands value we will use \"==\"\n"
      ],
      "metadata": {
        "id": "z0R7w5U5krPv"
      }
    },
    {
      "cell_type": "code",
      "source": [
        "a=6\n",
        "b=6\n",
        "print(a,b)\n",
        "print(a==b)"
      ],
      "metadata": {
        "colab": {
          "base_uri": "https://localhost:8080/"
        },
        "id": "rW_rsAFWmgeG",
        "outputId": "87fb07bb-506c-455b-9ab5-ff6fc6701298"
      },
      "execution_count": 3,
      "outputs": [
        {
          "output_type": "stream",
          "name": "stdout",
          "text": [
            "6 6\n",
            "True\n"
          ]
        }
      ]
    },
    {
      "cell_type": "markdown",
      "source": [
        "7. Identify the three blocks in this code:<br/>\n",
        "spam = 0<br/>\n",
        "if spam == 10:<br/>\n",
        "print('eggs')<br/>\n",
        "if spam > 5:<br/>\n",
        "print('bacon')<br/>\n",
        "else:<br/>\n",
        "print('ham')<br/>\n",
        "print('spam')<br/>\n",
        "print('spam')<br/>"
      ],
      "metadata": {
        "id": "L2qKzUDnecpl"
      }
    },
    {
      "cell_type": "code",
      "execution_count": 19,
      "metadata": {
        "id": "Ln5klEkzcifI",
        "colab": {
          "base_uri": "https://localhost:8080/"
        },
        "outputId": "767def96-a6f0-4617-bba2-7bb3fcca02ed"
      },
      "outputs": [
        {
          "output_type": "stream",
          "name": "stdout",
          "text": [
            "ham\n",
            "spam\n",
            "spam\n"
          ]
        }
      ],
      "source": [
        "spam = 0\n",
        "if spam == 10:\n",
        "  print('eggs')#block1\n",
        "if spam > 5:\n",
        "  print('bacon')#block2\n",
        "else:\n",
        "  print('ham')#block3\n",
        "  print('spam')\n",
        "  print('spam')"
      ]
    },
    {
      "cell_type": "markdown",
      "source": [
        "**8. Write code that prints Hello if 1 is stored in spam, prints Howdy if 2 is stored in spam, and prints Greetings! if anything else is stored in spam.**"
      ],
      "metadata": {
        "id": "oJyUcPtpnJ5G"
      }
    },
    {
      "cell_type": "code",
      "source": [
        "while True:\n",
        "  try:    \n",
        "    spam = int(input(\"Enter integer\"))\n",
        "    if spam == 1:\n",
        "      print(\"Hello\")\n",
        "    elif spam == 2:\n",
        "      print(\"Howdy\")\n",
        "    else:\n",
        "      print(\"Greetings\")\n",
        "    break  \n",
        "  except ValueError:\n",
        "    print(\"enter only integer\")\n"
      ],
      "metadata": {
        "colab": {
          "base_uri": "https://localhost:8080/"
        },
        "id": "tY-BV1Eqm9Oc",
        "outputId": "fc4b24c0-029f-4708-d83a-66c4206273c0"
      },
      "execution_count": 8,
      "outputs": [
        {
          "output_type": "stream",
          "name": "stdout",
          "text": [
            "Enter integere\n",
            "enter only integer\n",
            "Enter integer5\n",
            "Greetings\n"
          ]
        }
      ]
    },
    {
      "cell_type": "markdown",
      "source": [
        "**9.If your programme is stuck in an endless loop, what keys you’ll press?**"
      ],
      "metadata": {
        "id": "qIsnF-kLobMX"
      }
    },
    {
      "cell_type": "markdown",
      "source": [
        "Ans: ctrl+c"
      ],
      "metadata": {
        "id": "ZP1dl0bPob_m"
      }
    },
    {
      "cell_type": "markdown",
      "source": [
        "10. **How can you tell the difference between break and continue?**"
      ],
      "metadata": {
        "id": "_2qtszruoiB-"
      }
    },
    {
      "cell_type": "markdown",
      "source": [
        "break : It will terminate the current loop<br>\n",
        "continue: It will skip the current loop iterater and continue with next iteration<br>"
      ],
      "metadata": {
        "id": "U01IBNuUoye0"
      }
    },
    {
      "cell_type": "markdown",
      "source": [
        "**11. In a for loop, what is the difference between range(10), range(0, 10), and range(0, 10, 1)?**"
      ],
      "metadata": {
        "id": "8-NCjpwOqM8U"
      }
    },
    {
      "cell_type": "markdown",
      "source": [
        "Ans: range function contain 3 pararmeters <br>\n",
        "1 start : Optional. An integer number specifying at which position to start. Default is 0<br>\n",
        "2 stop : Required. An integer number specifying at which position to stop (not included)<br>\n",
        "3 step : Optional. An integer number specifying the incrementation. Default is 1<br>"
      ],
      "metadata": {
        "id": "W87xvI8Vq3L9"
      }
    },
    {
      "cell_type": "markdown",
      "source": [
        "The given three range function print interger values between (0 to 9)<br>\n",
        "(i) For range(10) it will consider stop=10 and for remaining parameter it will consider default values so it will print 0 to 9<br>\n",
        "(ii) For range(0,10) it will consider start = 0,stop=10 and for remaining parameter it will consider default values so it will print 0 to 9<br>\n",
        "(iii) For range(10) it will consider start=0,stop=10,step=1  so it will print 0 to 9"
      ],
      "metadata": {
        "id": "KGtuxJbOrdZR"
      }
    },
    {
      "cell_type": "markdown",
      "source": [
        "**12 Write a short program that prints the numbers 1 to 10 using a for loop. Then write an equivalent program that prints the numbers 1 to 10 using a while loop.**"
      ],
      "metadata": {
        "id": "-bRIp-YvDO6s"
      }
    },
    {
      "cell_type": "code",
      "source": [
        "print(\"*****using for loop*****\")\n",
        "for i in range(1,11):\n",
        "  print(i,end=\" \")\n",
        "print(\"\\n *****using while loop*****\")\n",
        "j=1\n",
        "while j<11:\n",
        "  print(j,end= \" \")\n",
        "  j+=1  \n",
        "\n"
      ],
      "metadata": {
        "colab": {
          "base_uri": "https://localhost:8080/"
        },
        "id": "jJKAB9uengif",
        "outputId": "2e12da9b-141e-4403-9384-d6037cd8d562"
      },
      "execution_count": 18,
      "outputs": [
        {
          "output_type": "stream",
          "name": "stdout",
          "text": [
            "*****using for loop*****\n",
            "1 2 3 4 5 6 7 8 9 10 \n",
            " *****using while loop*****\n",
            "1 2 3 4 5 6 7 8 9 10 "
          ]
        }
      ]
    },
    {
      "cell_type": "markdown",
      "source": [
        "**13. If you had a function named bacon() inside a module named spam, how would you call it after importing spam?**"
      ],
      "metadata": {
        "id": "mpFxflDcEJLL"
      }
    },
    {
      "cell_type": "markdown",
      "source": [
        "ANS : **spam.bacon()**"
      ],
      "metadata": {
        "id": "CSrqsBBgEOts"
      }
    }
  ]
}