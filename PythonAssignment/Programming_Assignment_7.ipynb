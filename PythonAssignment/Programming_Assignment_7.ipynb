{
  "nbformat": 4,
  "nbformat_minor": 0,
  "metadata": {
    "colab": {
      "provenance": []
    },
    "kernelspec": {
      "name": "python3",
      "display_name": "Python 3"
    },
    "language_info": {
      "name": "python"
    }
  },
  "cells": [
    {
      "cell_type": "code",
      "source": [
        "#1. Write a Python Program to find sum of array?\n",
        "a = [1,2,3,4,5]\n",
        "sum = 0\n",
        "for i in a:\n",
        "  sum+=i\n",
        "print(sum)  "
      ],
      "metadata": {
        "colab": {
          "base_uri": "https://localhost:8080/"
        },
        "id": "TVa8e7mzxXlp",
        "outputId": "007961f5-d9ea-4828-fbf5-007f1d3a7bd8"
      },
      "execution_count": 1,
      "outputs": [
        {
          "output_type": "stream",
          "name": "stdout",
          "text": [
            "15\n"
          ]
        }
      ]
    },
    {
      "cell_type": "code",
      "source": [
        "#2. Write a Python Program to find largest element in an array?\n",
        "a = [1,2,3,4,-5,13,111,22,3]\n",
        "large = a[0]\n",
        "for i in range(1,len(a)):\n",
        "  if a[i] > large:\n",
        "    large = a[i]\n",
        "print(large)"
      ],
      "metadata": {
        "colab": {
          "base_uri": "https://localhost:8080/"
        },
        "id": "UI7qC0ttx-CB",
        "outputId": "2acc6369-2a09-43f3-bbb0-539ded79b35b"
      },
      "execution_count": 12,
      "outputs": [
        {
          "output_type": "stream",
          "name": "stdout",
          "text": [
            "111\n"
          ]
        }
      ]
    },
    {
      "cell_type": "code",
      "source": [
        "#3. Write a Python Program for array rotation?\n",
        "a = [1,2,3,4,-5,13,111,22,3]\n",
        "b = []\n",
        "for i in range(len(a),0,-1):\n",
        "  b.append(a[i-1])\n",
        "print(b)  "
      ],
      "metadata": {
        "colab": {
          "base_uri": "https://localhost:8080/"
        },
        "id": "ShMK_O-VyWrB",
        "outputId": "c9b67c13-3def-4ffc-e996-fe2fc7c69067"
      },
      "execution_count": 21,
      "outputs": [
        {
          "output_type": "stream",
          "name": "stdout",
          "text": [
            "[3, 22, 111, 13, -5, 4, 3, 2, 1]\n"
          ]
        }
      ]
    },
    {
      "cell_type": "code",
      "source": [
        "#4. Write a Python Program to Split the array and add the first part to the end?\n",
        "def SplitArray(arr, n, k):\n",
        "\tfor i in range(0, k):\n",
        "\t\tx = arr[0]\n",
        "\t\tfor j in range(0, n-1):\n",
        "\t\t\tarr[j] = arr[j + 1]\n",
        "\t\t\n",
        "\t\tarr[n-1] = x\t\t\n",
        "a = [15, 40, 15, 16, 50, 36]\n",
        "\n",
        "position = 2\n",
        "SplitArray(a, len(a), position)\n",
        "for i in range(0, len(a)):\n",
        "\tprint(a[i], end = ' ')\n"
      ],
      "metadata": {
        "colab": {
          "base_uri": "https://localhost:8080/"
        },
        "id": "0YoH_9Oe4Fny",
        "outputId": "07c6aa1c-315f-4311-fd94-6bf8336bb3f1"
      },
      "execution_count": 32,
      "outputs": [
        {
          "output_type": "stream",
          "name": "stdout",
          "text": [
            "15 16 50 36 15 40 "
          ]
        }
      ]
    },
    {
      "cell_type": "code",
      "source": [
        "#5. Write a Python Program to check if given array is Monotonic?\n",
        "a = [10 ,11, 13, 9, 14]\n",
        "x = []\n",
        "y = []\n",
        "x.extend(a)\n",
        "y.extend(a)\n",
        "x.sort()\n",
        "y.sort(reverse = True)\n",
        "flag = 1\n",
        "if (x == a or y == a):\n",
        "  flag = 0\n",
        "  print(f'{a} is Monotonic')\n",
        "if flag:\n",
        "   print(f'{a} is not Monotonic') "
      ],
      "metadata": {
        "colab": {
          "base_uri": "https://localhost:8080/"
        },
        "id": "xsPajhOVzpcz",
        "outputId": "d13b8659-352b-4fbe-e042-9cbf90a81835"
      },
      "execution_count": 31,
      "outputs": [
        {
          "output_type": "stream",
          "name": "stdout",
          "text": [
            "[10, 11, 13, 9, 14] is not Monotonic\n"
          ]
        }
      ]
    },
    {
      "cell_type": "code",
      "source": [],
      "metadata": {
        "id": "V7C-ki5v111c"
      },
      "execution_count": null,
      "outputs": []
    }
  ]
}