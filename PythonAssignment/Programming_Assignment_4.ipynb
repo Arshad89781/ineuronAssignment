{
  "nbformat": 4,
  "nbformat_minor": 0,
  "metadata": {
    "colab": {
      "provenance": []
    },
    "kernelspec": {
      "name": "python3",
      "display_name": "Python 3"
    },
    "language_info": {
      "name": "python"
    }
  },
  "cells": [
    {
      "cell_type": "code",
      "source": [
        "#1. Write a Python Program to Find the Factorial of a Number?\n",
        "\n",
        "num = int(input(\"Enter your number : \"))\n",
        "f=1\n",
        "c=1\n",
        "if num < 0:\n",
        "  print(\"No factorial for negative number.\")\n",
        "elif num == 0:\n",
        "  print(f\"facorial of {num} is {f}\")\n",
        "else:\n",
        "  while  c <= num:\n",
        "    f = f * c\n",
        "    c += 1\n",
        "  print(f)     "
      ],
      "metadata": {
        "colab": {
          "base_uri": "https://localhost:8080/"
        },
        "id": "XFx2rg5qeZuQ",
        "outputId": "f4568df3-695d-425b-8a67-95b9203f8784"
      },
      "execution_count": 4,
      "outputs": [
        {
          "output_type": "stream",
          "name": "stdout",
          "text": [
            "Enter your number : 6\n",
            "720\n"
          ]
        }
      ]
    },
    {
      "cell_type": "code",
      "source": [
        "#2. Write a Python Program to Display the multiplication Table?\n",
        "\n",
        "t = int(input(\"Enter table u want : \"))\n",
        "for i in range(1,11):\n",
        "  print(f\"{t} x {i} = {t*i}\")"
      ],
      "metadata": {
        "colab": {
          "base_uri": "https://localhost:8080/"
        },
        "id": "6HsUcfxXfs0T",
        "outputId": "7666cd2e-3bdb-446e-a901-7bed1b2f478d"
      },
      "execution_count": 25,
      "outputs": [
        {
          "output_type": "stream",
          "name": "stdout",
          "text": [
            "Enter table u want : 3\n",
            "3 x 1 = 3\n",
            "3 x 2 = 6\n",
            "3 x 3 = 9\n",
            "3 x 4 = 12\n",
            "3 x 5 = 15\n",
            "3 x 6 = 18\n",
            "3 x 7 = 21\n",
            "3 x 8 = 24\n",
            "3 x 9 = 27\n",
            "3 x 10 = 30\n"
          ]
        }
      ]
    },
    {
      "cell_type": "code",
      "source": [
        "#3. Write a Python Program to Print the Fibonacci sequence?\n",
        "f1 = 0\n",
        "f2 = 1\n",
        "c=3\n",
        "num = int(input(\"Enter number series u want : \"))\n",
        "if num < 0:\n",
        "  print(\"No Fibonacci for negative number.\")\n",
        "elif num ==1:\n",
        "  print(f1)    \n",
        "else:\n",
        "  print(f1,f2 ,end=\" \")\n",
        "  while  c <= num:\n",
        "    f3 = f1+f2\n",
        "    f1 = f2\n",
        "    f2=f3\n",
        "    c+=1\n",
        "    print(f3,end  = ' ')"
      ],
      "metadata": {
        "colab": {
          "base_uri": "https://localhost:8080/"
        },
        "id": "k03_m1GkhJph",
        "outputId": "95cb0efb-d1c7-4db4-d539-cf7d30cabaef"
      },
      "execution_count": 14,
      "outputs": [
        {
          "output_type": "stream",
          "name": "stdout",
          "text": [
            "Enter number series u want : 10\n",
            "0 1 1 2 3 5 8 13 21 34 "
          ]
        }
      ]
    },
    {
      "cell_type": "code",
      "source": [
        "#4. Write a Python Program to Check Armstrong Number?\n",
        "num = int(input(\"Enter yout number to check armstrong or not: \"))\n",
        "\n",
        "def Armstrong(num):\n",
        "  sum = 0\n",
        "  temp = num\n",
        "  length = len(str(temp))\n",
        "  while temp > 0:\n",
        "    digit = temp % 10\n",
        "    sum += digit ** length\n",
        "    temp //= 10\n",
        "  return sum\n",
        "sum =  Armstrong(num) \n",
        "if num == sum:\n",
        "   print(num,\"is an Armstrong number\")\n",
        "else:\n",
        "   print(num,\"is not an Armstrong number\")   \n"
      ],
      "metadata": {
        "colab": {
          "base_uri": "https://localhost:8080/"
        },
        "id": "6PbMitx6igzx",
        "outputId": "88617823-35bb-4550-8ba5-cb34426de729"
      },
      "execution_count": 21,
      "outputs": [
        {
          "output_type": "stream",
          "name": "stdout",
          "text": [
            "Enter yout number to check armstrong or not: 1634\n",
            "1634 is an Armstrong number\n"
          ]
        }
      ]
    },
    {
      "cell_type": "code",
      "source": [
        "#5. Write a Python Program to Find Armstrong Number in an Interval?\n",
        "upperLimit = int(input(\"enter your starting limit : \"))\n",
        "lowerLimit = int(input(\"enter your ending limit : \"))\n",
        "for i in range(upperLimit,lowerLimit):\n",
        "  sum =  Armstrong(i) \n",
        "  if i == sum:\n",
        "    print(i,end= \" \")\n"
      ],
      "metadata": {
        "colab": {
          "base_uri": "https://localhost:8080/"
        },
        "id": "sDV8PNIRkyBP",
        "outputId": "b19bad9f-d4db-4177-a338-208a48ab01bf"
      },
      "execution_count": 22,
      "outputs": [
        {
          "output_type": "stream",
          "name": "stdout",
          "text": [
            "enter your starting limit : 1\n",
            "enter your ending limit : 1000\n",
            "1 2 3 4 5 6 7 8 9 153 370 371 407 "
          ]
        }
      ]
    },
    {
      "cell_type": "code",
      "source": [
        "#6. Write a Python Program to Find the Sum of Natural Numbers?\n",
        "num = int(input(\"enter num : \"))\n",
        "if nun > 0:\n",
        "  sum = num * (num+1) * 0.5\n",
        "  print(sum)\n",
        "else:\n",
        "  print(\"natural numbers starts from 1\")"
      ],
      "metadata": {
        "colab": {
          "base_uri": "https://localhost:8080/"
        },
        "id": "AV_Zl6womnys",
        "outputId": "cd3bf1f2-4d27-4195-fe39-80b5339c144a"
      },
      "execution_count": 24,
      "outputs": [
        {
          "output_type": "stream",
          "name": "stdout",
          "text": [
            "enter num : 10\n",
            "55.0\n"
          ]
        }
      ]
    },
    {
      "cell_type": "code",
      "source": [],
      "metadata": {
        "id": "5IqPCxoLnQ6o"
      },
      "execution_count": null,
      "outputs": []
    }
  ]
}